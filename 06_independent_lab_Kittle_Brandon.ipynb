{
 "cells": [
  {
   "cell_type": "markdown",
   "id": "6febb2be",
   "metadata": {},
   "source": [
    "# 🎓 Grade Entry System – Collections Lab\n",
    "### Independent Led Lab\n",
    "#### Brandon Kittle\n",
    "#### 04/07/2025\n",
    "\n",
    "\n",
    "Welcome to the Grading Entry system! This system allows you to enter grades for students. As well as input their names. The system will then calculate the average grade for each student and display the results. \n",
    "\n",
    "First Let us import the necessary libraries. \n"
   ]
  },
  {
   "cell_type": "code",
   "execution_count": 9,
   "id": "3475d88a",
   "metadata": {},
   "outputs": [],
   "source": [
    "import statistics"
   ]
  },
  {
   "cell_type": "markdown",
   "id": "a6aada7a",
   "metadata": {},
   "source": [
    "Next we will create our initial list of students, data, and objects. "
   ]
  },
  {
   "cell_type": "code",
   "execution_count": 10,
   "id": "fb54f3e2",
   "metadata": {},
   "outputs": [],
   "source": [
    "first_names = [\"Carmen\", \"Sydney\", \"Neil\", \"Marcus\"]\n",
    "last_names = [\"Berzatto\", \"Adamu\", \"Fak\", \"Brooks\"]\n",
    "majors = [\"Culinary Arts\", \"Hospitality\", \"Communications\", \"Business\"]\n",
    "gpas = [3.2, 3.5, 2.8, 3.0]\n",
    "\n",
    "violations = [\"Copying homework\", \"Cheating on exam\", \"Plagiarism\", \"Cheating on quiz\", \"Writing paper for another student\"]\n",
    "student_violations = [None] * len(first_names)  # parallel list to match students\n"
   ]
  },
  {
   "cell_type": "markdown",
   "id": "7fe97c0c",
   "metadata": {},
   "source": [
    "Next we will create a function to display our menu formating. This will allow us to see the options given to the end user. As well as keep formating clean and code simple. "
   ]
  },
  {
   "cell_type": "code",
   "execution_count": 11,
   "id": "f93f6115",
   "metadata": {},
   "outputs": [],
   "source": [
    "def display_menu():\n",
    "    print(\"\\n--- Grade Entry System ---\")\n",
    "    print(\"1. Student Information Query\")\n",
    "    print(\"2. Student Information Entry\")\n",
    "    print(\"3. Query GPA Metrics\")\n",
    "    print(\"4. Academic Violations\")\n",
    "    print(\"5. Quit Program\")"
   ]
  },
  {
   "cell_type": "markdown",
   "id": "1a962f2a",
   "metadata": {},
   "source": [
    "Then we will create a function to preform the student info Query. "
   ]
  },
  {
   "cell_type": "code",
   "execution_count": 12,
   "id": "9d5c74be",
   "metadata": {},
   "outputs": [],
   "source": [
    "def student_information_query():\n",
    "    print(\"\\n--- Student List ---\")\n",
    "    for i in range(len(first_names)):\n",
    "        print(f\"{i+1}. {first_names[i]} {last_names[i]} | Major: {majors[i]} | GPA: {gpas[i]} | Violation: {student_violations[i]}\")\n"
   ]
  },
  {
   "cell_type": "markdown",
   "id": "a5659080",
   "metadata": {},
   "source": [
    "Then the new student function will be created. Again, this will help simplify the code to create callable functions rather then having to repeat code. "
   ]
  },
  {
   "cell_type": "code",
   "execution_count": 13,
   "id": "9cc642a7",
   "metadata": {},
   "outputs": [],
   "source": [
    "def student_information_entry():\n",
    "    first = input(\"Enter first name: \")\n",
    "    last = input(\"Enter last name: \")\n",
    "    major = input(\"Enter major: \")\n",
    "    while True:\n",
    "        try:\n",
    "            gpa = float(input(\"Enter GPA: \"))\n",
    "            if 0.0 <= gpa <= 4.0:\n",
    "                break\n",
    "            else:\n",
    "                print(\"GPA must be between 0.0 and 4.0.\")\n",
    "        except ValueError:\n",
    "            print(\"Invalid input. Please enter a numeric value.\")\n",
    "    \n",
    "    first_names.append(first)\n",
    "    last_names.append(last)\n",
    "    majors.append(major)\n",
    "    gpas.append(gpa)\n",
    "    student_violations.append(None)\n",
    "    print(f\"\\nStudent {first} {last} added successfully.\")\n"
   ]
  },
  {
   "cell_type": "markdown",
   "id": "aaa56596",
   "metadata": {},
   "source": [
    "Nearly done with defining functions, we will now create our metric function for gpa. "
   ]
  },
  {
   "cell_type": "code",
   "execution_count": 14,
   "id": "a30eda0d",
   "metadata": {},
   "outputs": [],
   "source": [
    "def query_gpa_metrics():\n",
    "    print(\"\\n--- GPA Metrics ---\")\n",
    "    print(f\"Max GPA: {max(gpas):.2f}\")\n",
    "    print(f\"Min GPA: {min(gpas):.2f}\")\n",
    "    print(f\"Average GPA: {statistics.mean(gpas):.2f}\")\n"
   ]
  },
  {
   "cell_type": "markdown",
   "id": "475551cb",
   "metadata": {},
   "source": [
    "Lastly, we will create our function for academic violations. We are including a try catch here to catch any errors that may occur. This will help us to avoid crashing the program."
   ]
  },
  {
   "cell_type": "code",
   "execution_count": 15,
   "id": "fc31e0d0",
   "metadata": {},
   "outputs": [],
   "source": [
    "def academic_violations():\n",
    "    print(\"\\n--- Students ---\")\n",
    "    for i in range(len(first_names)):\n",
    "        print(f\"{i+1}. {first_names[i]} {last_names[i]}\")\n",
    "\n",
    "    try:\n",
    "        student_choice = int(input(\"Select a student number to assign a violation: \")) - 1\n",
    "        if 0 <= student_choice < len(first_names):\n",
    "            print(\"\\n--- Violation Types ---\")\n",
    "            for i, v in enumerate(violations):\n",
    "                print(f\"{i+1}. {v}\")\n",
    "            violation_choice = int(input(\"Choose a violation number: \")) - 1\n",
    "            if 0 <= violation_choice < len(violations):\n",
    "                student_violations[student_choice] = violations[violation_choice]\n",
    "                print(f\"{first_names[student_choice]} {last_names[student_choice]} has been assigned: {violations[violation_choice]}\")\n",
    "            else:\n",
    "                print(\"Invalid violation number.\")\n",
    "        else:\n",
    "            print(\"Invalid student number.\")\n",
    "    except ValueError:\n",
    "        print(\"Invalid input.\")\n"
   ]
  },
  {
   "cell_type": "markdown",
   "id": "05379ff5",
   "metadata": {},
   "source": [
    "Now for what would be our Main Function. Again, I aplogize for the simplicity of the code this week. I am on a tight deadline with work and school. I will be sure to have a more complex code next week. While not required, I do feel it is important to push myself to learn more. "
   ]
  },
  {
   "cell_type": "code",
   "execution_count": 16,
   "id": "065651cb",
   "metadata": {},
   "outputs": [
    {
     "name": "stdout",
     "output_type": "stream",
     "text": [
      "\n",
      "--- Grade Entry System ---\n",
      "1. Student Information Query\n",
      "2. Student Information Entry\n",
      "3. Query GPA Metrics\n",
      "4. Academic Violations\n",
      "5. Quit Program\n",
      "\n",
      "--- GPA Metrics ---\n",
      "Max GPA: 3.50\n",
      "Min GPA: 2.80\n",
      "Average GPA: 3.12\n",
      "\n",
      "--- Grade Entry System ---\n",
      "1. Student Information Query\n",
      "2. Student Information Entry\n",
      "3. Query GPA Metrics\n",
      "4. Academic Violations\n",
      "5. Quit Program\n",
      "\n",
      "Student Brandon Kittle added successfully.\n",
      "\n",
      "--- Grade Entry System ---\n",
      "1. Student Information Query\n",
      "2. Student Information Entry\n",
      "3. Query GPA Metrics\n",
      "4. Academic Violations\n",
      "5. Quit Program\n",
      "\n",
      "Student Master Shake added successfully.\n",
      "\n",
      "--- Grade Entry System ---\n",
      "1. Student Information Query\n",
      "2. Student Information Entry\n",
      "3. Query GPA Metrics\n",
      "4. Academic Violations\n",
      "5. Quit Program\n",
      "\n",
      "--- Student List ---\n",
      "1. Carmen Berzatto | Major: Culinary Arts | GPA: 3.2 | Violation: None\n",
      "2. Sydney Adamu | Major: Hospitality | GPA: 3.5 | Violation: None\n",
      "3. Neil Fak | Major: Communications | GPA: 2.8 | Violation: None\n",
      "4. Marcus Brooks | Major: Business | GPA: 3.0 | Violation: None\n",
      "5. Brandon Kittle | Major: MIS | GPA: 3.8 | Violation: None\n",
      "6. Master Shake | Major: BMKT | GPA: 2.4 | Violation: None\n",
      "\n",
      "--- Grade Entry System ---\n",
      "1. Student Information Query\n",
      "2. Student Information Entry\n",
      "3. Query GPA Metrics\n",
      "4. Academic Violations\n",
      "5. Quit Program\n",
      "\n",
      "--- Students ---\n",
      "1. Carmen Berzatto\n",
      "2. Sydney Adamu\n",
      "3. Neil Fak\n",
      "4. Marcus Brooks\n",
      "5. Brandon Kittle\n",
      "6. Master Shake\n",
      "\n",
      "--- Violation Types ---\n",
      "1. Copying homework\n",
      "2. Cheating on exam\n",
      "3. Plagiarism\n",
      "4. Cheating on quiz\n",
      "5. Writing paper for another student\n",
      "Marcus Brooks has been assigned: Cheating on exam\n",
      "\n",
      "--- Grade Entry System ---\n",
      "1. Student Information Query\n",
      "2. Student Information Entry\n",
      "3. Query GPA Metrics\n",
      "4. Academic Violations\n",
      "5. Quit Program\n",
      "\n",
      "--- Students ---\n",
      "1. Carmen Berzatto\n",
      "2. Sydney Adamu\n",
      "3. Neil Fak\n",
      "4. Marcus Brooks\n",
      "5. Brandon Kittle\n",
      "6. Master Shake\n",
      "\n",
      "--- Violation Types ---\n",
      "1. Copying homework\n",
      "2. Cheating on exam\n",
      "3. Plagiarism\n",
      "4. Cheating on quiz\n",
      "5. Writing paper for another student\n",
      "Brandon Kittle has been assigned: Writing paper for another student\n",
      "\n",
      "--- Grade Entry System ---\n",
      "1. Student Information Query\n",
      "2. Student Information Entry\n",
      "3. Query GPA Metrics\n",
      "4. Academic Violations\n",
      "5. Quit Program\n",
      "\n",
      "--- Student List ---\n",
      "1. Carmen Berzatto | Major: Culinary Arts | GPA: 3.2 | Violation: None\n",
      "2. Sydney Adamu | Major: Hospitality | GPA: 3.5 | Violation: None\n",
      "3. Neil Fak | Major: Communications | GPA: 2.8 | Violation: None\n",
      "4. Marcus Brooks | Major: Business | GPA: 3.0 | Violation: Cheating on exam\n",
      "5. Brandon Kittle | Major: MIS | GPA: 3.8 | Violation: Writing paper for another student\n",
      "6. Master Shake | Major: BMKT | GPA: 2.4 | Violation: None\n",
      "\n",
      "--- Grade Entry System ---\n",
      "1. Student Information Query\n",
      "2. Student Information Entry\n",
      "3. Query GPA Metrics\n",
      "4. Academic Violations\n",
      "5. Quit Program\n",
      "Exiting program. Goodbye!\n"
     ]
    }
   ],
   "source": [
    "while True:\n",
    "    display_menu()\n",
    "    choice = input(\"Choose an option (1-5): \")\n",
    "\n",
    "    if choice == \"1\":\n",
    "        student_information_query()\n",
    "    elif choice == \"2\":\n",
    "        student_information_entry()\n",
    "    elif choice == \"3\":\n",
    "        query_gpa_metrics()\n",
    "    elif choice == \"4\":\n",
    "        academic_violations()\n",
    "    elif choice == \"5\":\n",
    "        print(\"Exiting program. Goodbye!\")\n",
    "        break\n",
    "    else:\n",
    "        print(\"Invalid selection. Try again.\")\n"
   ]
  },
  {
   "cell_type": "markdown",
   "id": "88797382",
   "metadata": {},
   "source": [
    "Here is the GPA metrics prior: \n",
    "\n",
    "![Gpa_prior](assets/GPA_Before.png)\n",
    "\n",
    "Here is the GPA metrics after:\n",
    "![Gpa_after](assets/GPA_After.png)"
   ]
  }
 ],
 "metadata": {
  "kernelspec": {
   "display_name": "Python 3",
   "language": "python",
   "name": "python3"
  },
  "language_info": {
   "codemirror_mode": {
    "name": "ipython",
    "version": 3
   },
   "file_extension": ".py",
   "mimetype": "text/x-python",
   "name": "python",
   "nbconvert_exporter": "python",
   "pygments_lexer": "ipython3",
   "version": "3.12.0"
  }
 },
 "nbformat": 4,
 "nbformat_minor": 5
}
