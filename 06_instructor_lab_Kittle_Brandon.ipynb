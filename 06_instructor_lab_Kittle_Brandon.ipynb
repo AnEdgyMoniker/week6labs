{
 "cells": [
  {
   "cell_type": "markdown",
   "id": "0865e202",
   "metadata": {},
   "source": [
    "# 🧿 Magic Crystal Ball - Python Fortune Teller\n",
    "### Instructor Led Lab 06\n",
    "#### By: Brandon Kittle \n",
    "#### Date: 04/07/2025\n",
    "Welcome, digital mystic. This notebook will guide you step by step to build a fortune-telling program using lists, randomness, and a little bit of flair. After all, who doesn't enjoy a little bit of flair and fluff?\n",
    "\n",
    "First in any good project file, let us bring forth our libraries!\n"
   ]
  },
  {
   "cell_type": "code",
   "execution_count": 1,
   "id": "f0963e92",
   "metadata": {},
   "outputs": [],
   "source": [
    "import random"
   ]
  },
  {
   "cell_type": "markdown",
   "id": "b4478035",
   "metadata": {},
   "source": [
    "We need Python's `random` module to pull random responses from our crystal ball's wisdom bank. This will allow us an iterative approach to our fortune-telling process. Using positions to be decided by the random module. \n",
    "\n",
    "Lets create the objects that we shall need for this wondefourus journey. We shall start with our proclaimed and magical responses. \n"
   ]
  },
  {
   "cell_type": "code",
   "execution_count": 2,
   "id": "7aeeb394",
   "metadata": {},
   "outputs": [],
   "source": [
    "responses = [\n",
    "    \"It is certain\",\n",
    "    \"It is decidedly so\",\n",
    "    \"That question requires greater monetary compensation\",\n",
    "    \"Reply is hazy; try again, with more money\",\n",
    "    \"Concentrate and ask again\",\n",
    "    \"My reply is no\",\n",
    "    \"Outlook is not so good\",\n",
    "    \"Very doubtful\",\n",
    "    # Add 3 custom responses with personality\n",
    "    \"Your finances will be a key in your financial future.\",\n",
    "    \"The road from legitmate suspicion to rampant paranoia is very much shorter than we may think.\",\n",
    "    \"Your problems are conquered by finding true love, or using a Smith and Wesson...\"\n",
    "]\n"
   ]
  },
  {
   "cell_type": "markdown",
   "id": "7e0f1eec",
   "metadata": {},
   "source": [
    "Now, let us set up the objects we will need to track both the questions and the responses. These will be used as storage containers for our program. \n",
    "\n",
    "We will also use a boolean `has_asked` to control the changing text in the menu (\"Ask a question\" → \"Ask another question\")."
   ]
  },
  {
   "cell_type": "code",
   "execution_count": 3,
   "id": "3eadb4a7",
   "metadata": {},
   "outputs": [],
   "source": [
    "questions = []\n",
    "answers = []\n",
    "has_asked = False\n"
   ]
  },
  {
   "cell_type": "markdown",
   "id": "b005218d",
   "metadata": {},
   "source": [
    "Let us greet our user with a warm welcome."
   ]
  },
  {
   "cell_type": "code",
   "execution_count": 4,
   "id": "d21f886d",
   "metadata": {},
   "outputs": [
    {
     "name": "stdout",
     "output_type": "stream",
     "text": [
      "Welcome to the all-seeing machine! I've created every fathomable outcome for your future.\n",
      "Today, we will make life predicatable!\n",
      "\n"
     ]
    }
   ],
   "source": [
    "print(\"Welcome to the all-seeing machine! I've created every fathomable outcome for your future.\\nToday, we will make life predicatable!\\n\")\n"
   ]
  },
  {
   "cell_type": "markdown",
   "id": "e2a3217b",
   "metadata": {},
   "source": [
    "Now for our magical main while loop to run this magnificient program. "
   ]
  },
  {
   "cell_type": "code",
   "execution_count": 6,
   "id": "bd1d502e",
   "metadata": {},
   "outputs": [
    {
     "name": "stdout",
     "output_type": "stream",
     "text": [
      "1. Ask another question\n",
      "2. Review questions and responses\n",
      "3. Complete services and pay\n",
      "\n",
      "The road from legitmate suspicion to rampant paranoia is very much shorter than we may think.\n",
      "\n",
      "1. Ask another question\n",
      "2. Review questions and responses\n",
      "3. Complete services and pay\n",
      "\n",
      "That question requires greater monetary compensation\n",
      "\n",
      "1. Ask another question\n",
      "2. Review questions and responses\n",
      "3. Complete services and pay\n",
      "\n",
      "Outlook is not so good\n",
      "\n",
      "1. Ask another question\n",
      "2. Review questions and responses\n",
      "3. Complete services and pay\n",
      "\n",
      "Very doubtful\n",
      "\n",
      "1. Ask another question\n",
      "2. Review questions and responses\n",
      "3. Complete services and pay\n",
      "\n",
      "\n",
      "Here are your questions and the crystal ball's replies:\n",
      "\n",
      "Question: \"What do the stars say?\"\n",
      "Response: \"It is certain\"\n",
      "\n",
      "Question: \"What does the moon say?\"\n",
      "Response: \"Your problems are conquered by finding true love, or using a Smith and Wesson...\"\n",
      "\n",
      "Question: \"Will the end of the world occur in my life?\"\n",
      "Response: \"The road from legitmate suspicion to rampant paranoia is very much shorter than we may think.\"\n",
      "\n",
      "Question: \"What does the moon say? \"\n",
      "Response: \"That question requires greater monetary compensation\"\n",
      "\n",
      "Question: \"What do the stars bring?\"\n",
      "Response: \"Outlook is not so good\"\n",
      "\n",
      "Question: \"How will my d20s preform this evening?\"\n",
      "Response: \"Very doubtful\"\n",
      "\n",
      "1. Ask another question\n",
      "2. Review questions and responses\n",
      "3. Complete services and pay\n",
      "\n",
      "\n",
      "Thank you for visiting the all-seeing computer.\n",
      "\n",
      "You asked 6 question(s). You owe $180.00 for today's services.\n",
      "\n"
     ]
    }
   ],
   "source": [
    "while True:\n",
    "    print(\"1. Ask \" + (\"another\" if has_asked else \"a\") + \" question\")\n",
    "    print(\"2. Review questions and responses\")\n",
    "    print(\"3. Complete services and pay\\n\")\n",
    "\n",
    "    choice = input(\"Choose an option (1-3): \")\n",
    "\n",
    "    if choice == \"1\":\n",
    "        question = input(\"\\nAsk what you seek to know...\\n\")\n",
    "        response = random.choice(responses)\n",
    "        questions.append(question)\n",
    "        answers.append(response)\n",
    "        print(response + \"\\n\")\n",
    "        has_asked = True\n",
    "\n",
    "    elif choice == \"2\":\n",
    "        if not questions:\n",
    "            print(\"\\nYou haven’t asked any questions yet. The spirits are silent.\\n\")\n",
    "        else:\n",
    "            print(\"\\nHere are your questions and the crystal ball's replies:\\n\")\n",
    "            for q, a in zip(questions, answers):\n",
    "                print(f'Question: \"{q}\"\\nResponse: \"{a}\"\\n')\n",
    "\n",
    "    elif choice == \"3\":\n",
    "        print(\"\\nThank you for visiting the all-seeing computer.\\n\")\n",
    "        print(f\"You asked {len(questions)} question(s). You owe ${len(questions) * 30:.2f} for today's services.\\n\")\n",
    "        break\n",
    "    else:\n",
    "        print(\"\\nThat is not a valid option. Try again, mortal.\\n\")\n"
   ]
  },
  {
   "cell_type": "markdown",
   "id": "dc323132",
   "metadata": {},
   "source": [
    "I did not include the clear window function in this code. Last time it got a bit messy. I will add it again in the next assignment. I had a few issues with it incorrectly truncating the text. This caused some display issues with the last assignment. I do want to master this within the Project files. However, I have refrained from using it in favor of simplicity this week. I was a tad short on time due to work. So we are keeping things cut and dry for week six. "
   ]
  }
 ],
 "metadata": {
  "kernelspec": {
   "display_name": "Python 3",
   "language": "python",
   "name": "python3"
  },
  "language_info": {
   "codemirror_mode": {
    "name": "ipython",
    "version": 3
   },
   "file_extension": ".py",
   "mimetype": "text/x-python",
   "name": "python",
   "nbconvert_exporter": "python",
   "pygments_lexer": "ipython3",
   "version": "3.12.0"
  }
 },
 "nbformat": 4,
 "nbformat_minor": 5
}
